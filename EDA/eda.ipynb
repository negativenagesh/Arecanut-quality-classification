{
 "cells": [
  {
   "cell_type": "code",
   "execution_count": null,
   "metadata": {},
   "outputs": [],
   "source": [
    "import fireducks.pandas as pd\n",
    "import seaborn as sns"
   ]
  },
  {
   "cell_type": "code",
   "execution_count": 3,
   "metadata": {},
   "outputs": [],
   "source": [
    "fchali=pd.read_csv(\"/workspaces/Arecanut-quality-classification/img-to-df/datasets-from-df.py/1stchali.csv\")\n",
    "gotu=pd.read_csv(\"/workspaces/Arecanut-quality-classification/img-to-df/datasets-from-df.py/gotu.csv\")\n",
    "kole=pd.read_csv(\"/workspaces/Arecanut-quality-classification/img-to-df/datasets-from-df.py/kole.csv\")"
   ]
  },
  {
   "cell_type": "code",
   "execution_count": 7,
   "metadata": {},
   "outputs": [
    {
     "name": "stdout",
     "output_type": "stream",
     "text": [
      "<class 'pandas.core.frame.DataFrame'>\n",
      "RangeIndex: 559 entries, 0 to 558\n",
      "Columns: 16386 entries, Pixel-1 to image_name\n",
      "dtypes: int64(16384), object(2)\n",
      "memory usage: 69.9+ MB\n",
      "None\n",
      "<class 'pandas.core.frame.DataFrame'>\n",
      "RangeIndex: 495 entries, 0 to 494\n",
      "Columns: 16386 entries, Pixel-1 to image_name\n",
      "dtypes: int64(16384), object(2)\n",
      "memory usage: 61.9+ MB\n",
      "None\n",
      "<class 'pandas.core.frame.DataFrame'>\n",
      "RangeIndex: 528 entries, 0 to 527\n",
      "Columns: 16386 entries, Pixel-1 to image_name\n",
      "dtypes: int64(16384), object(2)\n",
      "memory usage: 66.0+ MB\n",
      "None\n"
     ]
    }
   ],
   "source": [
    "print(fchali.info())\n",
    "print(gotu.info())\n",
    "print(kole.info())"
   ]
  },
  {
   "cell_type": "code",
   "execution_count": 8,
   "metadata": {},
   "outputs": [
    {
     "name": "stdout",
     "output_type": "stream",
     "text": [
      "False\n",
      "False\n",
      "False\n"
     ]
    }
   ],
   "source": [
    "print(fchali.isnull().sum().any())\n",
    "print(gotu.isnull().sum().any())\n",
    "print(kole.isnull().sum().any())"
   ]
  },
  {
   "cell_type": "code",
   "execution_count": 9,
   "metadata": {},
   "outputs": [],
   "source": [
    "fchali=fchali.drop(\"image_name\",axis=1)\n",
    "gotu=gotu.drop(\"image_name\",axis=1)\n",
    "kole=kole.drop(\"image_name\",axis=1)"
   ]
  },
  {
   "cell_type": "code",
   "execution_count": 10,
   "metadata": {},
   "outputs": [],
   "source": [
    "fchali['grade'] = 1\n",
    "gotu['grade'] = 2\n",
    "kole['grade'] = 3"
   ]
  },
  {
   "cell_type": "code",
   "execution_count": 11,
   "metadata": {},
   "outputs": [
    {
     "name": "stdout",
     "output_type": "stream",
     "text": [
      "0     23241541.0\n",
      "12       44140.0\n",
      "13       44101.0\n",
      "11       44083.0\n",
      "14       43626.0\n",
      "15       43439.0\n",
      "10       43409.0\n",
      "16       42762.0\n",
      "9        42758.0\n",
      "1        42741.0\n",
      "dtype: float64\n"
     ]
    }
   ],
   "source": [
    "import numpy as np\n",
    "\n",
    "# Concatenate all dataframes\n",
    "all_data = pd.concat([fchali, gotu, kole])\n",
    "\n",
    "# Drop non-pixel columns\n",
    "pixel_data = all_data.drop(columns=['filename', 'grade'])\n",
    "\n",
    "# Find the most occurring pixel values\n",
    "most_occurring_pixels = pixel_data.apply(pd.Series.value_counts).fillna(0).sum(axis=1).sort_values(ascending=False)\n",
    "\n",
    "print(most_occurring_pixels.head(10))"
   ]
  },
  {
   "cell_type": "code",
   "execution_count": null,
   "metadata": {},
   "outputs": [],
   "source": []
  }
 ],
 "metadata": {
  "kernelspec": {
   "display_name": "areca",
   "language": "python",
   "name": "python3"
  },
  "language_info": {
   "codemirror_mode": {
    "name": "ipython",
    "version": 3
   },
   "file_extension": ".py",
   "mimetype": "text/x-python",
   "name": "python",
   "nbconvert_exporter": "python",
   "pygments_lexer": "ipython3",
   "version": "3.12.1"
  }
 },
 "nbformat": 4,
 "nbformat_minor": 2
}
