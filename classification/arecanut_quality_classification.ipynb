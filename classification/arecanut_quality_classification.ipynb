{
 "cells": [
  {
   "cell_type": "code",
   "execution_count": 1,
   "metadata": {
    "id": "dTrMxcIVboFT"
   },
   "outputs": [
    {
     "name": "stdout",
     "output_type": "stream",
     "text": [
      "(4080, 3072)\n"
     ]
    },
    {
     "data": {
      "text/plain": [
       "-1"
      ]
     },
     "execution_count": 1,
     "metadata": {},
     "output_type": "execute_result"
    }
   ],
   "source": [
    "import cv2\n",
    "\n",
    "exampleimg=cv2.imread(\"example-image.jpg\")\n",
    "cvimage=cv2.cvtColor(exampleimg,cv2.COLOR_BGR2GRAY)\n",
    "\n",
    "cv2.namedWindow(\"window\", cv2.WINDOW_NORMAL)\n",
    "cv2.resizeWindow(\"window\", 400,512 )\n",
    "\n",
    "print(cvimage.shape)\n",
    "\n",
    "cv2.imshow(\"window\",cvimage)\n",
    "cv2.waitKey(0)"
   ]
  },
  {
   "cell_type": "code",
   "execution_count": 4,
   "metadata": {},
   "outputs": [
    {
     "data": {
      "text/plain": [
       "(4080, 3072, 3)"
      ]
     },
     "execution_count": 4,
     "metadata": {},
     "output_type": "execute_result"
    }
   ],
   "source": [
    "cvimage2=cv2.imread(\"example-image.jpg\")\n",
    "cvimage2.shape"
   ]
  },
  {
   "cell_type": "code",
   "execution_count": 5,
   "metadata": {},
   "outputs": [
    {
     "data": {
      "text/plain": [
       "array([[[ 69,  84,  93],\n",
       "        [ 69,  84,  93],\n",
       "        [ 69,  84,  93],\n",
       "        ...,\n",
       "        [ 83,  82,  84],\n",
       "        [ 84,  83,  85],\n",
       "        [ 84,  83,  85]],\n",
       "\n",
       "       [[ 69,  84,  93],\n",
       "        [ 68,  83,  92],\n",
       "        [ 68,  83,  92],\n",
       "        ...,\n",
       "        [ 83,  82,  84],\n",
       "        [ 84,  83,  85],\n",
       "        [ 85,  84,  86]],\n",
       "\n",
       "       [[ 69,  84,  93],\n",
       "        [ 68,  83,  92],\n",
       "        [ 68,  83,  92],\n",
       "        ...,\n",
       "        [ 83,  82,  84],\n",
       "        [ 84,  83,  85],\n",
       "        [ 85,  84,  86]],\n",
       "\n",
       "       ...,\n",
       "\n",
       "       [[ 54,  59,  62],\n",
       "        [ 55,  60,  63],\n",
       "        [ 57,  62,  65],\n",
       "        ...,\n",
       "        [ 86,  98, 104],\n",
       "        [ 87,  99, 105],\n",
       "        [ 87,  99, 105]],\n",
       "\n",
       "       [[ 55,  60,  63],\n",
       "        [ 56,  61,  64],\n",
       "        [ 57,  62,  65],\n",
       "        ...,\n",
       "        [ 86,  96, 103],\n",
       "        [ 86,  98, 104],\n",
       "        [ 87,  99, 105]],\n",
       "\n",
       "       [[ 55,  60,  63],\n",
       "        [ 56,  61,  64],\n",
       "        [ 58,  63,  66],\n",
       "        ...,\n",
       "        [ 86,  96, 103],\n",
       "        [ 86,  98, 104],\n",
       "        [ 86,  98, 104]]], dtype=uint8)"
      ]
     },
     "execution_count": 5,
     "metadata": {},
     "output_type": "execute_result"
    }
   ],
   "source": [
    "cvimage2"
   ]
  },
  {
   "cell_type": "code",
   "execution_count": null,
   "metadata": {},
   "outputs": [],
   "source": [
    "import pandas as pd\n"
   ]
  }
 ],
 "metadata": {
  "colab": {
   "provenance": []
  },
  "kernelspec": {
   "display_name": "Python 3",
   "name": "python3"
  },
  "language_info": {
   "codemirror_mode": {
    "name": "ipython",
    "version": 3
   },
   "file_extension": ".py",
   "mimetype": "text/x-python",
   "name": "python",
   "nbconvert_exporter": "python",
   "pygments_lexer": "ipython3",
   "version": "3.12.4"
  }
 },
 "nbformat": 4,
 "nbformat_minor": 0
}
