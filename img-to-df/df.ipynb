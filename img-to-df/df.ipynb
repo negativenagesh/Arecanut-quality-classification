{
 "cells": [
  {
   "cell_type": "code",
   "execution_count": 1,
   "metadata": {},
   "outputs": [],
   "source": [
    "import numpy as np\n",
    "import pandas as pd\n",
    "from PIL import Image"
   ]
  },
  {
   "cell_type": "code",
   "execution_count": 2,
   "metadata": {},
   "outputs": [
    {
     "name": "stdout",
     "output_type": "stream",
     "text": [
      "DataFrame shape: (559, 16385)\n",
      "DataFrame created and saved successfully!\n"
     ]
    }
   ],
   "source": [
    "import os\n",
    "\n",
    "def images_to_dataframe(folder_path):\n",
    "    \n",
    "    flattened_images = []\n",
    "    image_names = []\n",
    "\n",
    "    for filename in os.listdir(folder_path):\n",
    "        file_path = os.path.join(folder_path, filename)\n",
    "        try:\n",
    "            image = Image.open(file_path)\n",
    "\n",
    "            if image.size != (128, 128):\n",
    "                raise ValueError(f\"Image {filename} is not 128x128. Found size: {image.size}\")\n",
    "            \n",
    "            flattened_image = np.array(image).flatten()\n",
    "\n",
    "            flattened_images.append(flattened_image)\n",
    "            image_names.append(filename)\n",
    "        \n",
    "        except Exception as e:\n",
    "            print(f\"Error processing file {filename}: {e}\")\n",
    "\n",
    "    df = pd.DataFrame(flattened_images)\n",
    "\n",
    "    df.columns = [f\"Pixel-{i+1}\" for i in range(16384)]\n",
    "\n",
    "    df['filename'] = image_names\n",
    "\n",
    "    return df\n",
    "\n",
    "if __name__ == \"__main__\":\n",
    "    folder_path = \"E:/arecanut/preprocessed-1stchali\"\n",
    "\n",
    "    df = images_to_dataframe(folder_path)\n",
    "\n",
    "    print(f\"DataFrame shape: {df.shape}\")\n",
    "\n",
    "    df.to_csv('images_flattened.csv', index=False)\n",
    "\n",
    "    print(\"DataFrame created and saved successfully!\")"
   ]
  },
  {
   "cell_type": "code",
   "execution_count": null,
   "metadata": {},
   "outputs": [],
   "source": []
  }
 ],
 "metadata": {
  "kernelspec": {
   "display_name": "areca",
   "language": "python",
   "name": "python3"
  },
  "language_info": {
   "codemirror_mode": {
    "name": "ipython",
    "version": 3
   },
   "file_extension": ".py",
   "mimetype": "text/x-python",
   "name": "python",
   "nbconvert_exporter": "python",
   "pygments_lexer": "ipython3",
   "version": "3.12.4"
  }
 },
 "nbformat": 4,
 "nbformat_minor": 2
}
